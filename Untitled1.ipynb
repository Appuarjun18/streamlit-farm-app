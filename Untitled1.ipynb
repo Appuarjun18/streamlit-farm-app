{
 "cells": [
  {
   "cell_type": "code",
   "execution_count": 10,
   "id": "af067cc4-52e9-4736-b572-7ce229ce10e7",
   "metadata": {},
   "outputs": [
    {
     "name": "stdout",
     "output_type": "stream",
     "text": [
      "Script saved successfully!\n"
     ]
    }
   ],
   "source": [
    "code = \"\"\"\n",
    "import streamlit as st\n",
    "import pandas as pd\n",
    "\n",
    "st.title(\"My Streamlit App\")\n",
    "\n",
    "# Your full code here\n",
    "\"\"\"\n",
    "code = \"\"\"\n",
    "import streamlit as st\n",
    "import pandas as pd\n",
    "import numpy as np\n",
    "from sklearn.ensemble import RandomForestRegressor\n",
    "\n",
    "# Simulated training data and model (replace with your actual data/model loading)\n",
    "total_growth_days = 121\n",
    "\n",
    "# Generate dummy data\n",
    "data = []\n",
    "for day_num in range(1, total_growth_days + 1):\n",
    "    temp = np.random.uniform(18, 30)\n",
    "    humidity = np.random.uniform(50, 90)\n",
    "    soil_pH = 6.5\n",
    "    organic_matter = 3.2\n",
    "    nitrogen = 25\n",
    "    growth_progress = day_num\n",
    "    yield_kg = (growth_progress / total_growth_days) * 8000 + np.random.normal(0, 100)\n",
    "    data.append([temp, humidity, soil_pH, organic_matter, nitrogen, growth_progress, yield_kg])\n",
    "\n",
    "columns = ['temperature', 'humidity', 'soil_pH', 'organic_matter', 'nitrogen', 'growth_progress_days', 'yield_kg']\n",
    "df = pd.DataFrame(data, columns=columns)\n",
    "\n",
    "X = df.drop('yield_kg', axis=1)\n",
    "y = df['yield_kg']\n",
    "\n",
    "model = RandomForestRegressor(n_estimators=100, random_state=42)\n",
    "model.fit(X, y)\n",
    "\n",
    "def predict_yield_scenario(input_features):\n",
    "    df_input = pd.DataFrame([input_features], columns=X.columns)\n",
    "    return model.predict(df_input)[0]\n",
    "\n",
    "st.title(\"Digital Twin for Farm Crop Yield Prediction\")\n",
    "\n",
    "st.sidebar.header(\"Adjust Environmental Parameters\")\n",
    "temperature = st.sidebar.slider(\"Temperature (°C)\", 10, 40, 28)\n",
    "humidity = st.sidebar.slider(\"Humidity (%)\", 30, 100, 75)\n",
    "soil_pH = st.sidebar.slider(\"Soil pH\", 4.0, 9.0, 6.5)\n",
    "organic_matter = st.sidebar.slider(\"Organic Matter (%)\", 0.0, 10.0, 3.2)\n",
    "nitrogen = st.sidebar.slider(\"Soil Nitrogen (mg/kg)\", 0, 100, 25)\n",
    "growth_days = st.sidebar.slider(\"Growth Progress (days)\", 0, total_growth_days, 20)\n",
    "\n",
    "input_features = {\n",
    "    'temperature': temperature,\n",
    "    'humidity': humidity,\n",
    "    'soil_pH': soil_pH,\n",
    "    'organic_matter': organic_matter,\n",
    "    'nitrogen': nitrogen,\n",
    "    'growth_progress_days': growth_days\n",
    "}\n",
    "\n",
    "pred_yield = predict_yield_scenario(input_features)\n",
    "\n",
    "st.write(f\"### Predicted Crop Yield: {pred_yield:.2f} kg/ha\")\n",
    "\"\"\"\n",
    "\n",
    "with open('streamlit_farm_app.py', 'w') as f:\n",
    "    f.write(code)\n",
    "with open(\"streamlit_farm_app.py\", \"w\", encoding=\"utf-8\") as f:\n",
    "    f.write(code)\n",
    "\n",
    "print(\"Script saved successfully!\")\n"
   ]
  },
  {
   "cell_type": "code",
   "execution_count": null,
   "id": "b10b18ea-9d56-45be-b3ae-119582a0e2c4",
   "metadata": {},
   "outputs": [],
   "source": []
  },
  {
   "cell_type": "code",
   "execution_count": null,
   "id": "e84174b5-44c5-4af4-8f3c-ec534e1bc5c9",
   "metadata": {},
   "outputs": [],
   "source": []
  }
 ],
 "metadata": {
  "kernelspec": {
   "display_name": "Python [conda env:base] *",
   "language": "python",
   "name": "conda-base-py"
  },
  "language_info": {
   "codemirror_mode": {
    "name": "ipython",
    "version": 3
   },
   "file_extension": ".py",
   "mimetype": "text/x-python",
   "name": "python",
   "nbconvert_exporter": "python",
   "pygments_lexer": "ipython3",
   "version": "3.12.7"
  }
 },
 "nbformat": 4,
 "nbformat_minor": 5
}
